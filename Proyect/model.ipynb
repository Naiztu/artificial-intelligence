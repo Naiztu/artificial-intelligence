{
 "cells": [
  {
   "cell_type": "code",
   "execution_count": 302,
   "metadata": {},
   "outputs": [],
   "source": [
    "import librosa\n",
    "import numpy as np\n",
    "import pandas as pd\n",
    "import os"
   ]
  },
  {
   "cell_type": "code",
   "execution_count": 303,
   "metadata": {},
   "outputs": [],
   "source": [
    "model_name = 'model'"
   ]
  },
  {
   "cell_type": "code",
   "execution_count": 304,
   "metadata": {},
   "outputs": [
    {
     "data": {
      "text/html": [
       "<div>\n",
       "<style scoped>\n",
       "    .dataframe tbody tr th:only-of-type {\n",
       "        vertical-align: middle;\n",
       "    }\n",
       "\n",
       "    .dataframe tbody tr th {\n",
       "        vertical-align: top;\n",
       "    }\n",
       "\n",
       "    .dataframe thead th {\n",
       "        text-align: right;\n",
       "    }\n",
       "</style>\n",
       "<table border=\"1\" class=\"dataframe\">\n",
       "  <thead>\n",
       "    <tr style=\"text-align: right;\">\n",
       "      <th></th>\n",
       "      <th>tempo</th>\n",
       "      <th>beats</th>\n",
       "      <th>chroma_stft</th>\n",
       "      <th>rmse</th>\n",
       "      <th>spectral_centroid</th>\n",
       "      <th>spectral_bandwidth</th>\n",
       "      <th>rolloff</th>\n",
       "      <th>zero_crossing_rate</th>\n",
       "      <th>mfcc1</th>\n",
       "      <th>mfcc2</th>\n",
       "      <th>...</th>\n",
       "      <th>mfcc11</th>\n",
       "      <th>mfcc12</th>\n",
       "      <th>mfcc13</th>\n",
       "      <th>mfcc14</th>\n",
       "      <th>mfcc15</th>\n",
       "      <th>mfcc16</th>\n",
       "      <th>mfcc17</th>\n",
       "      <th>mfcc18</th>\n",
       "      <th>mfcc19</th>\n",
       "      <th>mfcc20</th>\n",
       "    </tr>\n",
       "  </thead>\n",
       "  <tbody>\n",
       "    <tr>\n",
       "      <th>0</th>\n",
       "      <td>129.199219</td>\n",
       "      <td>1.0</td>\n",
       "      <td>0.324389</td>\n",
       "      <td>0.228825</td>\n",
       "      <td>1725.551816</td>\n",
       "      <td>2273.978975</td>\n",
       "      <td>3826.926859</td>\n",
       "      <td>0.05706</td>\n",
       "      <td>-86.372803</td>\n",
       "      <td>111.876266</td>\n",
       "      <td>...</td>\n",
       "      <td>2.01215</td>\n",
       "      <td>3.300573</td>\n",
       "      <td>-0.988298</td>\n",
       "      <td>4.484867</td>\n",
       "      <td>0.792854</td>\n",
       "      <td>4.111753</td>\n",
       "      <td>0.510068</td>\n",
       "      <td>5.315296</td>\n",
       "      <td>0.034456</td>\n",
       "      <td>1.717046</td>\n",
       "    </tr>\n",
       "    <tr>\n",
       "      <th>1</th>\n",
       "      <td>129.199219</td>\n",
       "      <td>1.0</td>\n",
       "      <td>0.324389</td>\n",
       "      <td>0.228825</td>\n",
       "      <td>1725.551816</td>\n",
       "      <td>2273.978975</td>\n",
       "      <td>3826.926859</td>\n",
       "      <td>0.05706</td>\n",
       "      <td>-86.372803</td>\n",
       "      <td>111.876266</td>\n",
       "      <td>...</td>\n",
       "      <td>2.01215</td>\n",
       "      <td>3.300573</td>\n",
       "      <td>-0.988298</td>\n",
       "      <td>4.484867</td>\n",
       "      <td>0.792854</td>\n",
       "      <td>4.111753</td>\n",
       "      <td>0.510068</td>\n",
       "      <td>5.315296</td>\n",
       "      <td>0.034456</td>\n",
       "      <td>1.717046</td>\n",
       "    </tr>\n",
       "  </tbody>\n",
       "</table>\n",
       "<p>2 rows × 28 columns</p>\n",
       "</div>"
      ],
      "text/plain": [
       "        tempo  beats  chroma_stft      rmse  spectral_centroid  \\\n",
       "0  129.199219    1.0     0.324389  0.228825        1725.551816   \n",
       "1  129.199219    1.0     0.324389  0.228825        1725.551816   \n",
       "\n",
       "   spectral_bandwidth      rolloff  zero_crossing_rate      mfcc1       mfcc2  \\\n",
       "0         2273.978975  3826.926859             0.05706 -86.372803  111.876266   \n",
       "1         2273.978975  3826.926859             0.05706 -86.372803  111.876266   \n",
       "\n",
       "   ...   mfcc11    mfcc12    mfcc13    mfcc14    mfcc15    mfcc16    mfcc17  \\\n",
       "0  ...  2.01215  3.300573 -0.988298  4.484867  0.792854  4.111753  0.510068   \n",
       "1  ...  2.01215  3.300573 -0.988298  4.484867  0.792854  4.111753  0.510068   \n",
       "\n",
       "     mfcc18    mfcc19    mfcc20  \n",
       "0  5.315296  0.034456  1.717046  \n",
       "1  5.315296  0.034456  1.717046  \n",
       "\n",
       "[2 rows x 28 columns]"
      ]
     },
     "execution_count": 304,
     "metadata": {},
     "output_type": "execute_result"
    }
   ],
   "source": [
    "test = pd.DataFrame({}, columns=[ 'tempo', 'beats', 'chroma_stft', 'rmse',\n",
    "       'spectral_centroid', 'spectral_bandwidth', 'rolloff',\n",
    "       'zero_crossing_rate', 'mfcc1', 'mfcc2', 'mfcc3', 'mfcc4', 'mfcc5',\n",
    "       'mfcc6', 'mfcc7', 'mfcc8', 'mfcc9', 'mfcc10', 'mfcc11', 'mfcc12',\n",
    "       'mfcc13', 'mfcc14', 'mfcc15', 'mfcc16', 'mfcc17', 'mfcc18', 'mfcc19',\n",
    "       'mfcc20'])\n",
    "for filename in os.listdir(f'./music'):\n",
    "    songname = f'./music/{filename}'\n",
    "    y, sr = librosa.load(songname, mono=True, duration=30)\n",
    "    onset_env = librosa.onset.onset_strength(y=y, sr=sr)\n",
    "    tempo = librosa.feature.tempo(y=y, sr=sr)[0]\n",
    "    beats = librosa.feature.tempo(y=y, sr=sr)\n",
    "    chroma_stft = librosa.feature.chroma_stft(y=y, sr=sr)\n",
    "    rmse = librosa.feature.rms(y=y)\n",
    "    spec_cent = librosa.feature.spectral_centroid(y=y, sr=sr)\n",
    "    spec_bw = librosa.feature.spectral_bandwidth(y=y, sr=sr)\n",
    "    rolloff = librosa.feature.spectral_rolloff(y=y, sr=sr)\n",
    "    zcr = librosa.feature.zero_crossing_rate(y)\n",
    "    mfcc = librosa.feature.mfcc(y=y, sr=sr)\n",
    "    to_append = f'{tempo} {beats.shape[0]} {np.mean(chroma_stft)} {np.mean(rmse)} {np.mean(spec_cent)} {np.mean(spec_bw)} {np.mean(rolloff)} {np.mean(zcr)}'    \n",
    "    for e in mfcc:\n",
    "        to_append += f' {np.mean(e)}'\n",
    "    \n",
    "    test.loc[len(test)] = to_append.split()  \n",
    "\n",
    "test = test.astype('float64')\n",
    "test "
   ]
  },
  {
   "cell_type": "code",
   "execution_count": 305,
   "metadata": {},
   "outputs": [],
   "source": [
    "import tensorflow as tf"
   ]
  },
  {
   "cell_type": "code",
   "execution_count": 306,
   "metadata": {},
   "outputs": [
    {
     "data": {
      "text/html": [
       "<div>\n",
       "<style scoped>\n",
       "    .dataframe tbody tr th:only-of-type {\n",
       "        vertical-align: middle;\n",
       "    }\n",
       "\n",
       "    .dataframe tbody tr th {\n",
       "        vertical-align: top;\n",
       "    }\n",
       "\n",
       "    .dataframe thead th {\n",
       "        text-align: right;\n",
       "    }\n",
       "</style>\n",
       "<table border=\"1\" class=\"dataframe\">\n",
       "  <thead>\n",
       "    <tr style=\"text-align: right;\">\n",
       "      <th></th>\n",
       "      <th>tempo</th>\n",
       "      <th>beats</th>\n",
       "      <th>chroma_stft</th>\n",
       "      <th>rmse</th>\n",
       "      <th>spectral_centroid</th>\n",
       "      <th>spectral_bandwidth</th>\n",
       "      <th>rolloff</th>\n",
       "      <th>zero_crossing_rate</th>\n",
       "      <th>mfcc1</th>\n",
       "      <th>mfcc2</th>\n",
       "      <th>...</th>\n",
       "      <th>mfcc11</th>\n",
       "      <th>mfcc12</th>\n",
       "      <th>mfcc13</th>\n",
       "      <th>mfcc14</th>\n",
       "      <th>mfcc15</th>\n",
       "      <th>mfcc16</th>\n",
       "      <th>mfcc17</th>\n",
       "      <th>mfcc18</th>\n",
       "      <th>mfcc19</th>\n",
       "      <th>mfcc20</th>\n",
       "    </tr>\n",
       "  </thead>\n",
       "  <tbody>\n",
       "    <tr>\n",
       "      <th>0</th>\n",
       "      <td>129.199219</td>\n",
       "      <td>1.0</td>\n",
       "      <td>0.324389</td>\n",
       "      <td>0.228825</td>\n",
       "      <td>1725.551816</td>\n",
       "      <td>2273.978975</td>\n",
       "      <td>3826.926859</td>\n",
       "      <td>0.05706</td>\n",
       "      <td>-86.372803</td>\n",
       "      <td>111.876266</td>\n",
       "      <td>...</td>\n",
       "      <td>2.01215</td>\n",
       "      <td>3.300573</td>\n",
       "      <td>-0.988298</td>\n",
       "      <td>4.484867</td>\n",
       "      <td>0.792854</td>\n",
       "      <td>4.111753</td>\n",
       "      <td>0.510068</td>\n",
       "      <td>5.315296</td>\n",
       "      <td>0.034456</td>\n",
       "      <td>1.717046</td>\n",
       "    </tr>\n",
       "    <tr>\n",
       "      <th>1</th>\n",
       "      <td>129.199219</td>\n",
       "      <td>1.0</td>\n",
       "      <td>0.324389</td>\n",
       "      <td>0.228825</td>\n",
       "      <td>1725.551816</td>\n",
       "      <td>2273.978975</td>\n",
       "      <td>3826.926859</td>\n",
       "      <td>0.05706</td>\n",
       "      <td>-86.372803</td>\n",
       "      <td>111.876266</td>\n",
       "      <td>...</td>\n",
       "      <td>2.01215</td>\n",
       "      <td>3.300573</td>\n",
       "      <td>-0.988298</td>\n",
       "      <td>4.484867</td>\n",
       "      <td>0.792854</td>\n",
       "      <td>4.111753</td>\n",
       "      <td>0.510068</td>\n",
       "      <td>5.315296</td>\n",
       "      <td>0.034456</td>\n",
       "      <td>1.717046</td>\n",
       "    </tr>\n",
       "  </tbody>\n",
       "</table>\n",
       "<p>2 rows × 28 columns</p>\n",
       "</div>"
      ],
      "text/plain": [
       "        tempo  beats  chroma_stft      rmse  spectral_centroid  \\\n",
       "0  129.199219    1.0     0.324389  0.228825        1725.551816   \n",
       "1  129.199219    1.0     0.324389  0.228825        1725.551816   \n",
       "\n",
       "   spectral_bandwidth      rolloff  zero_crossing_rate      mfcc1       mfcc2  \\\n",
       "0         2273.978975  3826.926859             0.05706 -86.372803  111.876266   \n",
       "1         2273.978975  3826.926859             0.05706 -86.372803  111.876266   \n",
       "\n",
       "   ...   mfcc11    mfcc12    mfcc13    mfcc14    mfcc15    mfcc16    mfcc17  \\\n",
       "0  ...  2.01215  3.300573 -0.988298  4.484867  0.792854  4.111753  0.510068   \n",
       "1  ...  2.01215  3.300573 -0.988298  4.484867  0.792854  4.111753  0.510068   \n",
       "\n",
       "     mfcc18    mfcc19    mfcc20  \n",
       "0  5.315296  0.034456  1.717046  \n",
       "1  5.315296  0.034456  1.717046  \n",
       "\n",
       "[2 rows x 28 columns]"
      ]
     },
     "execution_count": 306,
     "metadata": {},
     "output_type": "execute_result"
    }
   ],
   "source": [
    "test"
   ]
  },
  {
   "cell_type": "code",
   "execution_count": 307,
   "metadata": {},
   "outputs": [
    {
     "name": "stderr",
     "output_type": "stream",
     "text": [
      "WARNING:absl:Compiled the loaded model, but the compiled metrics have yet to be built. `model.compile_metrics` will be empty until you train or evaluate the model.\n"
     ]
    },
    {
     "name": "stdout",
     "output_type": "stream",
     "text": [
      "\u001b[1m1/1\u001b[0m \u001b[32m━━━━━━━━━━━━━━━━━━━━\u001b[0m\u001b[37m\u001b[0m \u001b[1m0s\u001b[0m 131ms/step\n"
     ]
    },
    {
     "data": {
      "text/plain": [
       "array([0, 0], dtype=int64)"
      ]
     },
     "execution_count": 307,
     "metadata": {},
     "output_type": "execute_result"
    }
   ],
   "source": [
    "model = tf.keras.models.load_model(model_name+'.h5')\n",
    "\n",
    "predicted = model.predict(test)\n",
    "np.argmax(predicted, axis=1)"
   ]
  },
  {
   "cell_type": "code",
   "execution_count": 308,
   "metadata": {},
   "outputs": [
    {
     "name": "stdout",
     "output_type": "stream",
     "text": [
      "['pop', 'pop']\n"
     ]
    }
   ],
   "source": [
    "mapper = {0:'blues', 1:'classical', 2:'country', 3:'disco', 4:'hiphop', 5:'jazz', 6:'metal', 7:'pop', 8:'reggae', 9:'rock'}\n",
    "mapper = {0:'pop', 1:'classical'}\n",
    "mapped = [mapper[i] for i in np.argmax(predicted, axis=1)]\n",
    "print(mapped)"
   ]
  }
 ],
 "metadata": {
  "kernelspec": {
   "display_name": "M2",
   "language": "python",
   "name": "python3"
  },
  "language_info": {
   "codemirror_mode": {
    "name": "ipython",
    "version": 3
   },
   "file_extension": ".py",
   "mimetype": "text/x-python",
   "name": "python",
   "nbconvert_exporter": "python",
   "pygments_lexer": "ipython3",
   "version": "3.12.2"
  }
 },
 "nbformat": 4,
 "nbformat_minor": 2
}
